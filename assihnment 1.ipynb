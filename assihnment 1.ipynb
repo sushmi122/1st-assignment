{
 "cells": [
  {
   "cell_type": "code",
   "execution_count": null,
   "id": "06106d6f-025a-439a-bcfa-96c4f55dfcdd",
   "metadata": {},
   "outputs": [],
   "source": [
    "1. The operators are +, -, *, and /.\n",
    "2.The values are 'hello', -88.8, and 5."
   ]
  },
  {
   "cell_type": "code",
   "execution_count": null,
   "id": "eeb82726-ae9d-477b-95cd-1eb4937c448a",
   "metadata": {},
   "outputs": [],
   "source": [
    "2. The variable is spam; the string is 'spam'. Strings always start and end\n",
    "with quotes."
   ]
  },
  {
   "cell_type": "code",
   "execution_count": null,
   "id": "8695fb3d-9041-466e-b57c-3d9ce422e40a",
   "metadata": {},
   "outputs": [],
   "source": [
    "3. The three data types introduced in this chapter are integers, floatingpoint numbers, and strings."
   ]
  },
  {
   "cell_type": "code",
   "execution_count": null,
   "id": "9b80e9c8-5ea9-4c28-8ea2-ee970ac705e3",
   "metadata": {},
   "outputs": [],
   "source": [
    "4. An expression is a combination of values and operators. All expressions\n",
    "evaluate (that is, reduce) to a single value."
   ]
  },
  {
   "cell_type": "code",
   "execution_count": null,
   "id": "e99d35c1-def2-4fb2-894f-cae17abdd89f",
   "metadata": {},
   "outputs": [],
   "source": [
    "5. An expression evaluates to a single value. A statement does not."
   ]
  },
  {
   "cell_type": "code",
   "execution_count": null,
   "id": "4a4b2136-69f6-4c27-9540-11fc951c0985",
   "metadata": {},
   "outputs": [],
   "source": [
    "6. The bacon variable is set to 20. The bacon + 1 expression does not\n",
    "reassign the value in bacon (that would need an assignment statement:\n",
    "bacon = bacon + 1)."
   ]
  },
  {
   "cell_type": "code",
   "execution_count": 5,
   "id": "2c46cc28-1a16-492e-94ba-79ad1f4efef2",
   "metadata": {},
   "outputs": [
    {
     "name": "stdout",
     "output_type": "stream",
     "text": [
      "spamspamspam\n",
      "spamspamspam\n"
     ]
    }
   ],
   "source": [
    "#7. Both expressions evaluate to the string 'spamspamspam'.\n",
    "print('spam' +'spamspam')\n",
    "print('spam'*3)"
   ]
  },
  {
   "cell_type": "code",
   "execution_count": null,
   "id": "2a8efb58-3457-4fea-a777-34d80a7db3f4",
   "metadata": {},
   "outputs": [],
   "source": [
    "8. Variable names cannot begin with a number"
   ]
  },
  {
   "cell_type": "code",
   "execution_count": null,
   "id": "ecf548c8-6f63-4b9a-8d6c-9ccb745abd97",
   "metadata": {},
   "outputs": [],
   "source": [
    "9. The int(), float(), and str() functions will evaluate to the integer,\n",
    "floating-point number, and string versions of the value passed to them"
   ]
  },
  {
   "cell_type": "code",
   "execution_count": 6,
   "id": "4eea892c-1bb2-4c6e-b1d1-e8b39f7b0b26",
   "metadata": {},
   "outputs": [
    {
     "name": "stdout",
     "output_type": "stream",
     "text": [
      "I have eaten99burritos\n"
     ]
    }
   ],
   "source": [
    "#10. The expression causes an error because 99 is an integer, and only\n",
    "#strings can be concatenated to other strings with the + operator. The\n",
    "#correct way is I have eaten ' + str(99) + ' burritos.'.\n",
    "print('I have eaten'+str(99)+'burritos')\n"
   ]
  },
  {
   "cell_type": "code",
   "execution_count": null,
   "id": "eece48cb-59c0-4862-8520-1da8375eb75a",
   "metadata": {},
   "outputs": [],
   "source": []
  }
 ],
 "metadata": {
  "kernelspec": {
   "display_name": "Python 3 (ipykernel)",
   "language": "python",
   "name": "python3"
  },
  "language_info": {
   "codemirror_mode": {
    "name": "ipython",
    "version": 3
   },
   "file_extension": ".py",
   "mimetype": "text/x-python",
   "name": "python",
   "nbconvert_exporter": "python",
   "pygments_lexer": "ipython3",
   "version": "3.10.6"
  }
 },
 "nbformat": 4,
 "nbformat_minor": 5
}
